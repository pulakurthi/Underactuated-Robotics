{
 "cells": [
  {
   "cell_type": "markdown",
   "metadata": {
    "cell_id": "4432ac432d1c4428a6280acdae6ea716",
    "deepnote_cell_type": "markdown"
   },
   "source": [
    "NOTE: To work with any of our notebooks on Deepnote, you must first\n",
    "- \"Duplicate\" the project into your own Deepnote account (see the button in the top right of the GUI), then \n",
    "- click \"Move this file to notebooks\".  \n",
    "\n",
    "Then it should run!"
   ]
  },
  {
   "cell_type": "markdown",
   "metadata": {
    "cell_id": "f5021fcd853a43c0ae6ddc5c62d4b225",
    "deepnote_cell_type": "markdown"
   },
   "source": [
    "# Writing (simple) systems in Drake"
   ]
  },
  {
   "cell_type": "markdown",
   "metadata": {
    "cell_id": "7d5482c1dd874a2bb9b58925b3740554",
    "deepnote_cell_type": "markdown"
   },
   "source": [
    "Drake is a powerful modeling language for authoring models of dynamical systems.  The goal of this exercise is to learn how to author a very simple dynamical systems.  To start, take a few minutes to work through [this Drake tutorial](https://deepnote.com/workspace/Drake-0b3b2c53-a7ad-441b-80f8-bf8350752305/project/Tutorials-2b4fc509-aef2-417d-a40d-6071dfed9199/%2Fdynamical_systems.ipynb).\n",
    "\n",
    "Your first task is to write a simple *continuous-time* system that implements the dynamics of a simple damped pendulum (with mass, length, and damping set to 1, and gravity set to 10): $$\\ddot\\theta + \\dot\\theta + 10\\sin\\theta = u.$$  Write code into the following block that results in the pendulum_system variable being an *instance* of a Drake System that implements these dynamics using position and velocity as the state.\n",
    "\n",
    "Hint: You can import `sin` from `numpy` or from `pydrake.math`. Depending on your version of `numpy`, it might print a warning, but this can be safely ignored."
   ]
  },
  {
   "cell_type": "code",
   "execution_count": 19,
   "metadata": {
    "cell_id": "f9b8855c82ce45b68d1a3ffcde4c15ab",
    "deepnote_cell_type": "code",
    "execution_context_id": "69d384b2-8632-4b81-8302-000b9eff47cb",
    "execution_millis": 0,
    "execution_start": 1728186378149,
    "source_hash": "2e84bbec"
   },
   "outputs": [],
   "source": [
    "from pydrake.systems.framework import LeafSystem\n",
    "from pydrake.systems.framework import BasicVector\n",
    "from pydrake.systems.framework import ContinuousState\n",
    "from numpy import sin\n",
    "\n",
    "class SimplePendulumSystem(LeafSystem):\n",
    "    def __init__(self):\n",
    "        LeafSystem.__init__(self)\n",
    "        \n",
    "        # Declare one input port for external torque 'u'.\n",
    "        self.DeclareVectorInputPort(\"input_torque\", BasicVector(1))\n",
    "\n",
    "        # Declare continuous state: [theta, thetadot]\n",
    "        self.DeclareContinuousState(2)  # Two states: theta and thetadot (velocity)\n",
    "\n",
    "        # Declare one output port, the full state [theta, thetadot]. BasicVector() is an array with 2 elements\n",
    "        self.DeclareVectorOutputPort(\"state_output\", BasicVector(2),\n",
    "                                     self.CopyStateOut)\n",
    "\n",
    "    # Output method: just copy the state to the output port\n",
    "    def CopyStateOut(self, context, output):\n",
    "        output.SetFrom(context.get_continuous_state_vector())\n",
    "\n",
    "    # Time derivatives method: implements the dynamics\n",
    "    def DoCalcTimeDerivatives(self, context, derivatives):\n",
    "        state = context.get_continuous_state_vector().CopyToVector()\n",
    "        theta = state[0]\n",
    "        theta_dot = state[1]\n",
    "        \n",
    "        # Get the input torque 'u'\n",
    "        u = self.get_input_port(0).Eval(context)[0]\n",
    "        \n",
    "        # Define the dynamics\n",
    "        theta_dot_dot = u - theta_dot - 10 * sin(theta)\n",
    "        \n",
    "        # Set the derivatives\n",
    "        derivatives.get_mutable_vector().SetAtIndex(0, theta_dot)  # dtheta/dt = theta_dot\n",
    "        derivatives.get_mutable_vector().SetAtIndex(1, theta_dot_dot)  # dthetadot/dt = theta_dot_dot\n",
    "\n",
    "\n",
    "# Instantiate the System\n",
    "pendulum_system = SimplePendulumSystem()"
   ]
  },
  {
   "cell_type": "markdown",
   "metadata": {
    "cell_id": "88680056b596423ea3275579ed96ee59",
    "deepnote_cell_type": "markdown"
   },
   "source": [
    "Drake [Systems](https://drake.mit.edu/doxygen_cxx/classdrake_1_1systems_1_1_system.html) have methods that define the dynamics, like $$\\dot{x} = f(t, x, u), \\qquad y = g(t, x, u)$$ for the state dynamics, $f$, and system output function, $g$. Sometimes the equations depend on time, sometimes not. Sometimes they have extra parameters, sometimes not. Not all systems have inputs, and not all systems have states!\n",
    "\n",
    "To make the input arguments to these methods more succinct, we collect $t, x, u$ and parameters into a single structure, which we call the [Context](https://drake.mit.edu/doxygen_cxx/classdrake_1_1systems_1_1_context.html). Then all of the methods for the dynamical system can be called using that context, e.g.: $$\\dot{x} = f(\\text{context}), \\qquad y = g(\\text{context}).$$ We'll use it often throughout the course."
   ]
  },
  {
   "cell_type": "code",
   "execution_count": 20,
   "metadata": {
    "cell_id": "b19b1552378d47b084c3a3cc3f8bbfb1",
    "deepnote_cell_type": "code",
    "execution_context_id": "69d384b2-8632-4b81-8302-000b9eff47cb",
    "execution_millis": 1,
    "execution_start": 1728186380709,
    "source_hash": "ed690e69"
   },
   "outputs": [
    {
     "name": "stdout",
     "output_type": "stream",
     "text": [
      "::_ Context\n",
      "------------\n",
      "Time: 0\n",
      "States:\n",
      "  2 continuous states\n",
      "    0 0\n",
      "\n",
      "\n",
      "::_ Context\n",
      "------------\n",
      "Time: 4.67\n",
      "States:\n",
      "  2 continuous states\n",
      "    2.1 3.4\n",
      "\n",
      "\n",
      "Input port 0 value: [7.89]\n"
     ]
    }
   ],
   "source": [
    "if pendulum_system is not None:\n",
    "    context = pendulum_system.CreateDefaultContext()\n",
    "    print(context)\n",
    "\n",
    "    # Set the time and state\n",
    "    context.SetTime(4.67)\n",
    "    context.SetContinuousState([2.1, 3.4])\n",
    "    print(context)\n",
    "\n",
    "    # Set an input port to have a fixed value\n",
    "    # (alternatively, we could connect it to the output port of another system).\n",
    "    pendulum_system.get_input_port(0).FixValue(context, [7.89])\n",
    "    print(f\"Input port 0 value: {pendulum_system.get_input_port(0).Eval(context)}\")"
   ]
  },
  {
   "cell_type": "markdown",
   "metadata": {
    "cell_id": "ff8ce09f182a4aefa12b9303684dd3bc",
    "deepnote_cell_type": "markdown"
   },
   "source": [
    "## Autograding\n",
    "You can check your work by running the following cell:"
   ]
  },
  {
   "cell_type": "code",
   "execution_count": 21,
   "metadata": {
    "cell_id": "d5fc98dc657a463bb8ce5fceccb120b7",
    "deepnote_cell_type": "code",
    "execution_context_id": "69d384b2-8632-4b81-8302-000b9eff47cb",
    "execution_millis": 280,
    "execution_start": 1728186383838,
    "source_hash": "49ade36a"
   },
   "outputs": [
    {
     "name": "stdout",
     "output_type": "stream",
     "text": [
      "Total score is 2/2.\n",
      "\n",
      "Score for test_dynamics (underactuated.exercises.intro.test_drake_systems.TestDrakeSystems) is 1/1.\n",
      "\n",
      "Score for test_input_and_state (underactuated.exercises.intro.test_drake_systems.TestDrakeSystems) is 1/1.\n"
     ]
    }
   ],
   "source": [
    "from underactuated.exercises.grader import Grader\n",
    "from underactuated.exercises.intro.test_drake_systems import TestDrakeSystems\n",
    "\n",
    "Grader.grade_output([TestDrakeSystems], [locals()], \"results.json\")\n",
    "Grader.print_test_results(\"results.json\")"
   ]
  },
  {
   "cell_type": "code",
   "execution_count": null,
   "metadata": {
    "cell_id": "6efe445bbf284645a2d7207ae48a6e30",
    "deepnote_cell_type": "code"
   },
   "outputs": [],
   "source": []
  },
  {
   "cell_type": "code",
   "execution_count": null,
   "metadata": {
    "cell_id": "2aa6f650d592451e99487d917e33e8d5",
    "deepnote_cell_type": "visualization"
   },
   "outputs": [],
   "source": []
  },
  {
   "cell_type": "markdown",
   "metadata": {
    "created_in_deepnote_cell": true,
    "deepnote_cell_type": "markdown"
   },
   "source": [
    "<a style='text-decoration:none;line-height:16px;display:flex;color:#5B5B62;padding:10px;justify-content:end;' href='https://deepnote.com?utm_source=created-in-deepnote-cell&projectId=39eb1969-1a41-454c-9463-1e187e5caeeb' target=\"_blank\">\n",
    "<img alt='Created in deepnote.com' style='display:inline;max-height:16px;margin:0px;margin-right:7.5px;' src='data:image/svg+xml;base64,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' > </img>\n",
    "Created in <span style='font-weight:600;margin-left:4px;'>Deepnote</span></a>"
   ]
  }
 ],
 "metadata": {
  "deepnote_notebook_id": "f85eed64fa5940578ed9a91867f867fc",
  "kernelspec": {
   "display_name": "Python 3 (ipykernel)",
   "language": "python",
   "name": "python3"
  },
  "language_info": {
   "codemirror_mode": {
    "name": "ipython",
    "version": 3
   },
   "file_extension": ".py",
   "mimetype": "text/x-python",
   "name": "python",
   "nbconvert_exporter": "python",
   "pygments_lexer": "ipython3",
   "version": "3.12.7"
  }
 },
 "nbformat": 4,
 "nbformat_minor": 4
}
