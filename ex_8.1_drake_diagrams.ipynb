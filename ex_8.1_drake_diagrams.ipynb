{
 "cells": [
  {
   "cell_type": "markdown",
   "metadata": {
    "cell_id": "eabf927f66994d7186738a814000b689",
    "deepnote_cell_type": "markdown"
   },
   "source": [
    "# LQR on a Drake Diagram"
   ]
  },
  {
   "cell_type": "markdown",
   "metadata": {
    "cell_id": "6e6fbad9453749b3b006d8a29aea6205",
    "deepnote_cell_type": "markdown"
   },
   "source": [
    "The goal of this exercise is teach you a little more about using Drake to model and analyze systems.  Towards the end of [this Drake tutorial](https://deepnote.com/workspace/Drake-0b3b2c53-a7ad-441b-80f8-bf8350752305/project/Tutorials-2b4fc509-aef2-417d-a40d-6071dfed9199/notebook/dynamical_systems-b0d6121d894e44d3bef7c169cdf185d1), you learned a little about how to assemble a Diagram and then run a simple simulation.  In this problem, you'll make a Diagram, and then design an LQR controller for it.\n",
    "\n",
    "To motivate this, let's say we already have a System which represents our mathematical model of some mechanical system. We'll use the double integrator here, but more commonly we could use the physics engine in Drake's [`MultibodyPlant`](https://drake.mit.edu/doxygen_cxx/classdrake_1_1multibody_1_1_multibody_plant.html). These systems assume that our input is a perfect force/torque source. In practice, though, actuators like electric motors aren't perfect torque sources. In particular, they would struggle to produce the instantaneous changes in torque demanded from a bang-bang optimal controller.\n",
    "\n",
    "We can capture this challenge by writing a second system that models the dynamics of the actuator. It's useful to write this as a different system, because if you write a really nice actuator model, then you can connect it to many different mechanical systems. This is how we do abstraction and write modular code for dynamical systems. Drake has a [growing library of models](https://drake.mit.edu/doxygen_cxx/group__systems.html) like this which can be assembled into complex Diagrams."
   ]
  },
  {
   "cell_type": "code",
   "execution_count": 1,
   "metadata": {
    "cell_id": "f69220ecdab741bf8a82fceb1acbc274",
    "deepnote_cell_type": "code",
    "execution_context_id": "00b2eab1-5c8d-4e71-ac2d-cf617e16bbb6",
    "execution_millis": 411,
    "execution_start": 1728964596595,
    "source_hash": "e27363cd"
   },
   "outputs": [],
   "source": [
    "# Imports.\n",
    "import numpy as np\n",
    "import pydot\n",
    "from IPython.display import SVG, display\n",
    "from pydrake.all import LinearQuadraticRegulator, LinearSystem, DiagramBuilder"
   ]
  },
  {
   "cell_type": "markdown",
   "metadata": {
    "cell_id": "95078bc2904941819e10253989617310",
    "deepnote_cell_type": "markdown"
   },
   "source": [
    "Let's build our diagram.  Note: we do it all in a single notebook cell because when you add a System to a Diagram, the Diagram takes ownership of that System; you cannot add one System to multiple Diagrams.  The components are as follows:\n",
    "\n",
    "### 1) Plant model (a double integrator)\n",
    "\n",
    "To keep things very simple, let's just use the double integrator as our \"mechanical system\". We've implemented that for you.\n",
    "\n",
    "### 2) Actuator model (a low-pass filter)\n",
    "\n",
    "The simplest model that we could imagine for the actuator is as a low-pass\n",
    "filter: $$\\tau\\dot{x} = u - x, \\quad y = x.$$ Let's use the time constant $\\tau = 0.5$ seconds.\n",
    "\n",
    "You can use `SymbolicVectorSystem`, `LinearSystem`, or write your own `LeafSystem`, but if you write your own `LeafSystem` you'll have to support Drake's automatic differentiation (`AutoDiffXd`) using the `TemplateSystem` decorator as described in the Drake [authoring leaf systems tutorial](https://deepnote.com/workspace/Drake-0b3b2c53-a7ad-441b-80f8-bf8350752305/project/Tutorials-2b4fc509-aef2-417d-a40d-6071dfed9199/%2Findex.ipynb).\n",
    "\n",
    "### 3) Make the diagram\n",
    "\n",
    "Finally, we want to connect the output of the actuator model to the input of the double integrator.  And to expose the input of the actuator model as an input to the diagram. \n",
    "\n",
    "Note: use `AddNamedSystem` in the `DiagramBuilder` and give yourself helpful names; it will make your debugging displays more useful below."
   ]
  },
  {
   "cell_type": "code",
   "execution_count": 2,
   "metadata": {
    "cell_id": "b553d72a716e453a9c344cdd71a36f63",
    "deepnote_cell_type": "code",
    "execution_context_id": "00b2eab1-5c8d-4e71-ac2d-cf617e16bbb6",
    "execution_millis": 1,
    "execution_start": 1728964597058,
    "source_hash": "f5fa3570"
   },
   "outputs": [],
   "source": [
    "# 1) This system implements the Double Integrator model (q̈ = u, y = q).\n",
    "double_integrator = LinearSystem(\n",
    "    A=np.mat(\"0 1; 0 0\"), B=np.mat(\"0; 1\"), C=np.mat(\"1, 0\"), D=[0]\n",
    ")\n",
    "\n",
    "# 2) TODO: Implement the actuator model.\n",
    "tau = 0.5\n",
    "actuator_model = LinearSystem(\n",
    "    A=[-1/tau], B=[1/tau], C=[1], D=[0]\n",
    ")\n",
    "\n",
    "# 3) TODO: Connect the double_integrator and the actuator_model together into a\n",
    "# Diagram. The Diagram must have an input port for the actuator model input.\n",
    "builder = DiagramBuilder()\n",
    "\n",
    "double_integrator_system = builder.AddNamedSystem(\"DoubleIntegrator\",double_integrator)\n",
    "\n",
    "actuator_system = builder.AddNamedSystem(\"Actuator\",actuator_model)\n",
    "\n",
    "builder.Connect(actuator_system.get_output_port(0),double_integrator_system.get_input_port(0))\n",
    "\n",
    "# Expose the input port of the actuator model as the input of the overall diagram.\n",
    "#this is very important LinearQuadraticRegulator will not work without it\n",
    "builder.ExportInput(actuator_system.get_input_port(0), \"actuator_input\")\n",
    "\n",
    "diagram = builder.Build()"
   ]
  },
  {
   "cell_type": "markdown",
   "metadata": {
    "cell_id": "dcb047f214204d56a78015cf19ae7b48",
    "deepnote_cell_type": "markdown"
   },
   "source": [
    "The next cell provides a very useful visualization so that you can make sure that your diagram looks like you expect. Again make sure you use `AddNamedSystem` in the `DiagramBuilder` so that the boxes have legible names."
   ]
  },
  {
   "cell_type": "code",
   "execution_count": 3,
   "metadata": {
    "cell_id": "62813b0d5135426989c67a633271a138",
    "deepnote_cell_type": "code",
    "execution_context_id": "00b2eab1-5c8d-4e71-ac2d-cf617e16bbb6",
    "execution_millis": 217,
    "execution_start": 1728964597127,
    "source_hash": "dca75f6e"
   },
   "outputs": [
    {
     "data": {
      "image/svg+xml": [
       "<svg xmlns=\"http://www.w3.org/2000/svg\" xmlns:xlink=\"http://www.w3.org/1999/xlink\" width=\"593pt\" height=\"151pt\" viewBox=\"0.00 0.00 593.00 151.00\">\n",
       "<g id=\"graph0\" class=\"graph\" transform=\"scale(1 1) rotate(0) translate(4 147)\">\n",
       "<title>_4</title>\n",
       "<polygon fill=\"white\" stroke=\"transparent\" points=\"-4,4 -4,-147 589,-147 589,4 -4,4\"/>\n",
       "<g id=\"clust1\" class=\"cluster\">\n",
       "<title>cluster4diagram</title>\n",
       "<polygon fill=\"none\" stroke=\"black\" points=\"8,-8 8,-135 577,-135 577,-8 8,-8\"/>\n",
       "<text text-anchor=\"start\" x=\"258.5\" y=\"-116.3\" font-family=\"Times,serif\" font-weight=\"bold\" font-size=\"14.00\">Diagram</text>\n",
       "</g>\n",
       "<g id=\"clust2\" class=\"cluster\">\n",
       "<title>clusters4in</title>\n",
       "<polygon fill=\"lightgrey\" stroke=\"lightgrey\" points=\"16,-16 16,-91 165,-91 165,-16 16,-16\"/>\n",
       "<text text-anchor=\"middle\" x=\"90.5\" y=\"-75.8\" font-family=\"Times,serif\" font-size=\"14.00\">input ports</text>\n",
       "</g>\n",
       "<g id=\"clust3\" class=\"cluster\">\n",
       "<title>cluster4subsystems</title>\n",
       "<polygon fill=\"none\" stroke=\"white\" points=\"185,-16 185,-96 569,-96 569,-16 185,-16\"/>\n",
       "</g>\n",
       "<!-- s4in -->\n",
       "<g id=\"node1\" class=\"node\">\n",
       "<title>s4in</title>\n",
       "<polygon fill=\"none\" stroke=\"blue\" points=\"35.5,-31 35.5,-52 146.5,-52 146.5,-31 35.5,-31\"/>\n",
       "<text text-anchor=\"start\" x=\"38.5\" y=\"-37.8\" font-family=\"Times,serif\" font-size=\"14.00\">actuator_input</text>\n",
       "</g>\n",
       "<!-- s3 -->\n",
       "<g id=\"node3\" class=\"node\">\n",
       "<title>s3</title>\n",
       "<polygon fill=\"none\" stroke=\"black\" points=\"201.5,-49 201.5,-83 320.5,-83 320.5,-49 201.5,-49\"/>\n",
       "<text text-anchor=\"start\" x=\"206.5\" y=\"-69.8\" font-family=\"Times,serif\" font-weight=\"bold\" font-size=\"14.00\">LinearSystem</text>\n",
       "<text text-anchor=\"start\" x=\"204.5\" y=\"-55.8\" font-family=\"Times,serif\" font-size=\"14.00\">name=Actuator</text>\n",
       "<polygon fill=\"none\" stroke=\"black\" points=\"201.5,-28 201.5,-49 261.5,-49 261.5,-28 201.5,-28\"/>\n",
       "<text text-anchor=\"start\" x=\"222\" y=\"-34.8\" font-family=\"Times,serif\" font-size=\"14.00\">u0</text>\n",
       "<polygon fill=\"none\" stroke=\"black\" points=\"261.5,-28 261.5,-49 320.5,-49 320.5,-28 261.5,-28\"/>\n",
       "<text text-anchor=\"start\" x=\"282\" y=\"-34.8\" font-family=\"Times,serif\" font-size=\"14.00\">y0</text>\n",
       "</g>\n",
       "<!-- s4in&#45;&gt;s3 -->\n",
       "<g id=\"edge2\" class=\"edge\">\n",
       "<title>s4in:e-&gt;s3:w</title>\n",
       "<path fill=\"none\" stroke=\"blue\" d=\"M147.5,-41C167.22,-41 174.52,-38.9 190.17,-38.22\"/>\n",
       "<polygon fill=\"blue\" stroke=\"blue\" points=\"190.58,-41.71 200.5,-38 190.43,-34.71 190.58,-41.71\"/>\n",
       "</g>\n",
       "<!-- s2 -->\n",
       "<g id=\"node2\" class=\"node\">\n",
       "<title>s2</title>\n",
       "<polygon fill=\"none\" stroke=\"black\" points=\"372.5,-49 372.5,-83 553.5,-83 553.5,-49 372.5,-49\"/>\n",
       "<text text-anchor=\"start\" x=\"408.5\" y=\"-69.8\" font-family=\"Times,serif\" font-weight=\"bold\" font-size=\"14.00\">LinearSystem</text>\n",
       "<text text-anchor=\"start\" x=\"375.5\" y=\"-55.8\" font-family=\"Times,serif\" font-size=\"14.00\">name=DoubleIntegrator</text>\n",
       "<polygon fill=\"none\" stroke=\"black\" points=\"372.5,-28 372.5,-49 463.5,-49 463.5,-28 372.5,-28\"/>\n",
       "<text text-anchor=\"start\" x=\"408.5\" y=\"-34.8\" font-family=\"Times,serif\" font-size=\"14.00\">u0</text>\n",
       "<polygon fill=\"none\" stroke=\"black\" points=\"463.5,-28 463.5,-49 553.5,-49 553.5,-28 463.5,-28\"/>\n",
       "<text text-anchor=\"start\" x=\"499.5\" y=\"-34.8\" font-family=\"Times,serif\" font-size=\"14.00\">y0</text>\n",
       "</g>\n",
       "<!-- s3&#45;&gt;s2 -->\n",
       "<g id=\"edge1\" class=\"edge\">\n",
       "<title>s3:e-&gt;s2:w</title>\n",
       "<path fill=\"none\" stroke=\"black\" d=\"M321.5,-38C339.9,-38 346.88,-38 361.35,-38\"/>\n",
       "<polygon fill=\"black\" stroke=\"black\" points=\"361.5,-41.5 371.5,-38 361.5,-34.5 361.5,-41.5\"/>\n",
       "</g>\n",
       "</g>\n",
       "</svg>"
      ],
      "text/plain": [
       "<IPython.core.display.SVG object>"
      ]
     },
     "metadata": {},
     "output_type": "display_data"
    }
   ],
   "source": [
    "if diagram:\n",
    "    display(SVG(pydot.graph_from_dot_data(diagram.GetGraphvizString())[0].create_svg()))"
   ]
  },
  {
   "cell_type": "markdown",
   "metadata": {
    "cell_id": "2d448ebe93cf4da68d7f8c626500d9d6",
    "deepnote_cell_type": "markdown"
   },
   "source": [
    "## Design an LQR controller\n",
    "\n",
    "Finally we can call LQR.  Let's define the nominal state (which must be a fixed point) as \n",
    "- for the double integrator: $q_0 = 1.2, \\dot{q}_0 = 0$,\n",
    "- for the actuator model: $x_0 = 0$,\n",
    "  \n",
    "and the nominal input $u_0 = 0$. As always, we achieve this by setting the system `Context` and passing that to the `LinearQuadraticRegulator` method.\n",
    "\n",
    "Note: The order of the states in the Diagram state might depend on how you assembled the Diagram. We use [`GetMyContextFromRoot`](https://drake.mit.edu/doxygen_cxx/classdrake_1_1systems_1_1_system.html#ae7fa91d2b2102457ced3361207724e52) so that you can set the variables in the subsystem Contexts directly. These are pointers into the memory of the `diagram_context`, so changing the subsystem Context will change the diagram Context."
   ]
  },
  {
   "cell_type": "code",
   "execution_count": 4,
   "metadata": {
    "cell_id": "e61cb3bcc52443cca8133b35d512c052",
    "deepnote_cell_type": "code",
    "execution_context_id": "00b2eab1-5c8d-4e71-ac2d-cf617e16bbb6",
    "execution_millis": 0,
    "execution_start": 1728964597403,
    "source_hash": "714eacbd"
   },
   "outputs": [
    {
     "name": "stdout",
     "output_type": "stream",
     "text": [
      "::_ Context (of a Diagram)\n",
      "---------------------------\n",
      "3 total continuous states\n",
      "\n",
      "::_::DoubleIntegrator Context\n",
      "------------------------------\n",
      "Time: 0\n",
      "States:\n",
      "  2 continuous states\n",
      "    1.2   0\n",
      "\n",
      "\n",
      "::_::Actuator Context\n",
      "----------------------\n",
      "Time: 0\n",
      "States:\n",
      "  1 continuous states\n",
      "    0\n",
      "\n",
      "\n"
     ]
    }
   ],
   "source": [
    "if diagram:\n",
    "    diagram_context = diagram.CreateDefaultContext()\n",
    "    double_integrator_context = double_integrator.GetMyContextFromRoot(diagram_context)\n",
    "    actuator_model_context = actuator_model.GetMyContextFromRoot(diagram_context)\n",
    "\n",
    "    # TODO: Set the context to be the desired fixed point (x₀, u₀). This\n",
    "    # requires setting the state and fixing the input port.\n",
    "    double_integrator_context.SetContinuousState([1.2, 0])\n",
    "    actuator_model_context.SetContinuousState([0])\n",
    "\n",
    "    diagram.get_input_port(0).FixValue(diagram_context, 0)\n",
    "\n",
    "    # We'll print the diagram context here so you can see the results of your\n",
    "    # code.\n",
    "    print(diagram_context)"
   ]
  },
  {
   "cell_type": "markdown",
   "metadata": {
    "cell_id": "c876015c86bb4f3f976da89cf84ab982",
    "deepnote_cell_type": "markdown"
   },
   "source": [
    "Now we have everything we need to design the LQR controller. Thanks to the abstraction provided by the systems framework, designing a controller for the `Diagram` is no different, really, than designing a controller for a `LeafSystem`! This allows us to write principled algorithms for potentially very complex systems."
   ]
  },
  {
   "cell_type": "code",
   "execution_count": 5,
   "metadata": {
    "cell_id": "39521f102cf84f20b65eabd222746078",
    "deepnote_cell_type": "code",
    "execution_context_id": "00b2eab1-5c8d-4e71-ac2d-cf617e16bbb6",
    "execution_millis": 1,
    "execution_start": 1728964597450,
    "source_hash": "718a9d0d"
   },
   "outputs": [
    {
     "name": "stdout",
     "output_type": "stream",
     "text": [
      "Controller: u = u0 - K(x-x0), with K=[[1.         2.26503715 1.06519664]]\n"
     ]
    }
   ],
   "source": [
    "if diagram:\n",
    "    # We'll cost terms in the objective simple:\n",
    "    Q = np.eye(3)\n",
    "    R = [1]\n",
    "\n",
    "    # Now we can construct the LQR controller. A Diagram is a System, too... so\n",
    "    # it all works!\n",
    "    controller = LinearQuadraticRegulator(diagram, diagram_context, Q, R)\n",
    "\n",
    "    print(f\"Controller: u = u0 - K(x-x0), with K={-controller.D()}\")"
   ]
  },
  {
   "cell_type": "markdown",
   "metadata": {
    "cell_id": "4a615f892f644f8c9d30f9a843e48c43",
    "deepnote_cell_type": "markdown"
   },
   "source": [
    "## Autograding\n",
    "\n",
    "The autograder will check your variables `double_integrator`, `actuator_model`, `diagram`, `diagram_context`, and `controller`; so don't change those variable names.\n",
    "\n",
    "You can check your work by running the following cell:"
   ]
  },
  {
   "cell_type": "code",
   "execution_count": 6,
   "metadata": {
    "cell_id": "8b5481e2fcd5467986aed2f32a3289d3",
    "deepnote_cell_type": "code",
    "execution_context_id": "00b2eab1-5c8d-4e71-ac2d-cf617e16bbb6",
    "execution_millis": 1106,
    "execution_start": 1728964597498,
    "source_hash": "d2fac486"
   },
   "outputs": [
    {
     "name": "stdout",
     "output_type": "stream",
     "text": [
      "Total score is 4/4.\n",
      "\n",
      "Score for test_actuator_model (underactuated.exercises.lqr.test_drake_diagrams.TestDrakeDiagrams) is 1/1.\n",
      "\n",
      "Score for test_controller (underactuated.exercises.lqr.test_drake_diagrams.TestDrakeDiagrams) is 1/1.\n",
      "\n",
      "Score for test_diagram (underactuated.exercises.lqr.test_drake_diagrams.TestDrakeDiagrams) is 1/1.\n",
      "\n",
      "Score for test_diagram_context (underactuated.exercises.lqr.test_drake_diagrams.TestDrakeDiagrams) is 1/1.\n"
     ]
    }
   ],
   "source": [
    "from underactuated.exercises.grader import Grader\n",
    "from underactuated.exercises.lqr.test_drake_diagrams import TestDrakeDiagrams\n",
    "\n",
    "Grader.grade_output([TestDrakeDiagrams], [locals()], \"results.json\")\n",
    "Grader.print_test_results(\"results.json\")"
   ]
  },
  {
   "cell_type": "code",
   "execution_count": 6,
   "metadata": {
    "cell_id": "a32d00d305954178981facd6282394ff",
    "deepnote_cell_type": "code",
    "execution_context_id": "00b2eab1-5c8d-4e71-ac2d-cf617e16bbb6",
    "execution_millis": 0,
    "execution_start": 1728964598651,
    "source_hash": "b623e53d"
   },
   "outputs": [],
   "source": []
  },
  {
   "cell_type": "markdown",
   "metadata": {
    "created_in_deepnote_cell": true,
    "deepnote_cell_type": "markdown"
   },
   "source": [
    "<a style='text-decoration:none;line-height:16px;display:flex;color:#5B5B62;padding:10px;justify-content:end;' href='https://deepnote.com?utm_source=created-in-deepnote-cell&projectId=350f1d54-f9bc-4809-8451-5ab37a3057f1' target=\"_blank\">\n",
    "<img alt='Created in deepnote.com' style='display:inline;max-height:16px;margin:0px;margin-right:7.5px;' src='data:image/svg+xml;base64,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' > </img>\n",
    "Created in <span style='font-weight:600;margin-left:4px;'>Deepnote</span></a>"
   ]
  }
 ],
 "metadata": {
  "deepnote_notebook_id": "003d5de8d7734d978146b7a5d65ef4e2",
  "kernelspec": {
   "display_name": "Python 3 (ipykernel)",
   "language": "python",
   "name": "python3"
  },
  "language_info": {
   "codemirror_mode": {
    "name": "ipython",
    "version": 3
   },
   "file_extension": ".py",
   "mimetype": "text/x-python",
   "name": "python",
   "nbconvert_exporter": "python",
   "pygments_lexer": "ipython3",
   "version": "3.12.7"
  }
 },
 "nbformat": 4,
 "nbformat_minor": 4
}
